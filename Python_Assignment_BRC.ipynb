{
 "cells": [
  {
   "cell_type": "markdown",
   "metadata": {},
   "source": [
    "# Python Assignment\n",
    "\n",
    "_Brittany Cavazos_ "
   ]
  },
  {
   "cell_type": "markdown",
   "metadata": {},
   "source": [
    "**Instructions**:\n",
    "Carefully annotate and execute the code already provided in `sequence_translate.py`. If you're unfamiliar with a bit of code, you can find lots of resources and information online. Be sure to cite information appropriately (by providing URLs and other relevant references). You must also write the missing code that is outlined by pseudocode and comments. Remember to document everything very clearly!"
   ]
  },
  {
   "cell_type": "markdown",
   "metadata": {},
   "source": [
    "#### Your Mission -*should you choose to accept it* 🕵️‍-  Complete Python code in a Jupyter Notebook"
   ]
  },
  {
   "cell_type": "code",
   "execution_count": 1,
   "metadata": {},
   "outputs": [],
   "source": [
    "from Bio import SeqIO\n",
    "from Bio.Data import CodonTable\n",
    "import pandas as pd"
   ]
  },
  {
   "cell_type": "markdown",
   "metadata": {},
   "source": [
    "The code above is importing SeqIO, a CodonTable and pandas (which we are shortening to pd). SeqIO, part of Biopython, is the standard sequence Input/output interface. It allows the user to be able to read sequence file formats. CodonTable panwill translate the sequences. Pandas is a software library that is commonly used for manipulating data and performing operations.(https://biopython.org/wiki/SeqIO)"
   ]
  },
  {
   "cell_type": "markdown",
   "metadata": {},
   "source": [
    "## *Functions*"
   ]
  },
  {
   "cell_type": "markdown",
   "metadata": {},
   "source": [
    "[Your descriptions of all functions should contain information about what the function does, as well as information about the return types and arguments.]"
   ]
  },
  {
   "cell_type": "markdown",
   "metadata": {},
   "source": [
    "### Function 1: Dr. X's dictionary function\n",
    "\n",
    "Directions: *Document Dr. X's function with comments and with markdown text in your Jupyter notebook.*"
   ]
  },
  {
   "cell_type": "code",
   "execution_count": 2,
   "metadata": {},
   "outputs": [],
   "source": [
    "def get_sequences_from_file(fasta_fn):\n",
    "    sequence_data_dict = {}\n",
    "    for record in SeqIO.parse(fasta_fn, \"fasta\"):\n",
    "        description = record.description.split()\n",
    "        species_name = description[1] + \" \" + description[2]\n",
    "        sequence_data_dict[species_name] = record.seq\n",
    "    return(sequence_data_dict)"
   ]
  },
  {
   "cell_type": "markdown",
   "metadata": {},
   "source": [
    "* the `def` command is defining a function that we are calling `get_sequences_from file` \n",
    "* in the second line, we are putting the output of this function in an object called `sequence_data_dict`\n",
    "* in the third line, `for record in SeqIO.parse(fasta_fn, \"fasta\"):`, we are telling python to read our file, fasta_fn, as a fasta file, and parse takes the file handle and format name and returns the SeqRecord iterator (https://biopython.org/wiki/SeqRecord)"
   ]
  },
  {
   "cell_type": "code",
   "execution_count": 3,
   "metadata": {},
   "outputs": [
    {
     "name": "stdout",
     "output_type": "stream",
     "text": [
      "ID: AF264047.1\n",
      "Name: AF264047.1\n",
      "Description: AF264047.1 Ursus spelaeus cytochrome b gene, complete cds; mitochondrial gene for mitochondrial product\n",
      "Number of features: 0\n",
      "Seq('ATGACCAACATCCGAAAAACCCATCCATTAGCTAAAATCATCAACAACTCATTT...AGA', SingleLetterAlphabet())\n",
      "ID: AB020907.1\n",
      "Name: AB020907.1\n",
      "Description: AB020907.1 Ursus arctos mitochondrial gene for cytochrome b, complete cds\n",
      "Number of features: 0\n",
      "Seq('ATGACCAACATCCGAAAAACCCACCCATTAGCTAAAATCATCAACAACTCACTT...AGA', SingleLetterAlphabet())\n",
      "ID: AB360958.1\n",
      "Name: AB360958.1\n",
      "Description: AB360958.1 Ursus thibetanus mitochondrial cytb gene for cytochrome b, complete cds, haplotype: Cb-C1\n",
      "Number of features: 0\n",
      "Seq('ATGACCAACATCCGAAAAACCCATCCATTAGCCAAAATCATCAACAACTCACTC...AGA', SingleLetterAlphabet())\n",
      "ID: U23562.1\n",
      "Name: U23562.1\n",
      "Description: U23562.1 Melursus ursinus cytochrome b gene, mitochondrial gene encoding mitochondrial protein, isolate URUR2, complete cds\n",
      "Number of features: 0\n",
      "Seq('ATGACCAACATCCGAAAAACCCACCCATTAGCTAAAATCATTAACAACTCACTC...AGA', SingleLetterAlphabet())\n",
      "ID: AF268271.1\n",
      "Name: AF268271.1\n",
      "Description: AF268271.1 Ursus americanus specimen-voucher AF21120 cytochrome b gene, complete cds; mitochondrial gene for mitochondrial product\n",
      "Number of features: 0\n",
      "Seq('ATGACCAACATCCGAAAAACCCACCCATTAGCTAAAATCATCAACAACTCACTT...AGA', SingleLetterAlphabet())\n",
      "ID: U18899.1\n",
      "Name: U18899.1\n",
      "Description: U18899.1 Helarctos malayanus mitochondrion cytochrome b (cyt b) gene, complete cds\n",
      "Number of features: 0\n",
      "Seq('ATGACCAACATCCGAAAAACCCACCCATTAGCTAAAATCATTAACAACTCACTT...AGA', SingleLetterAlphabet())\n",
      "ID: U23552.1\n",
      "Name: U23552.1\n",
      "Description: U23552.1 Ailuropoda melanoleuca cytochrome b gene, mitochondrial gene encoding mitochondrial protein, complete cds\n",
      "Number of features: 0\n",
      "Seq('ATGATCAACATCCGAAAAACTCATCCATTAGTTAAAATTATCAACAACTCATTC...AGA', SingleLetterAlphabet())\n",
      "ID: U23554.1\n",
      "Name: U23554.1\n",
      "Description: U23554.1 Tremarctos ornatus cytochrome b gene, mitochondrial gene encoding mitochondrial protein, complete cds\n",
      "Number of features: 0\n",
      "Seq('ATGACCAACATCCGAAAAACTCACCCACTAGCTAAAATCATCAACAGCTCATTC...AGA', SingleLetterAlphabet())\n",
      "ID: EU567096.1\n",
      "Name: EU567096.1\n",
      "Description: EU567096.1 Ursus maritimus haplotype Umar cytochrome b (cob) gene, complete cds; mitochondrial\n",
      "Number of features: 0\n",
      "Seq('ATGACCAACATCCGAAAAACCCACCCATTAGCTAAAATCATCAACAACTCATTT...AGA', SingleLetterAlphabet())\n",
      "<class 'Bio.SeqRecord.SeqRecord'>\n"
     ]
    }
   ],
   "source": [
    "# Using bears_cytb.fasta as an example... let's first view this data, using SeqIO.parse()\n",
    "# from Bio import SeqIO # we ran this earlier\n",
    "for record in SeqIO.parse(\"bears_cytb.fasta\", \"fasta\"):\n",
    "    print(record)\n",
    "print(type(record))"
   ]
  },
  {
   "cell_type": "markdown",
   "metadata": {},
   "source": [
    "Based on this output, we can see that this is a Bio.SeqRecord and the data is broken up into Id, Name, Description, Number of features, and Sequence. \n",
    "\n",
    "Describing Function 1 cont'd:"
   ]
  },
  {
   "cell_type": "markdown",
   "metadata": {},
   "source": [
    "* the fourth line in the function, `description = record.description.split()`,  is making an object that is taking the description output in the file and separating the string by the spaces\n",
    "* the fifth line, `species_name = description[1] + \" \" + description[2]`, is getting the species name, which is putting together the second element, (indexed as [1]) and the third element (indexed as [2]) and separating them by a space, resulting in the whole genus-species name\n",
    "* the sixth line, ` sequence_data_dict[species_name] = record.seq`, `species_name` is put into `sequence_data_dict`, so the return output is a dictionary with the species name as the key and the sequences (record.seq) as the value"
   ]
  },
  {
   "cell_type": "code",
   "execution_count": 4,
   "metadata": {},
   "outputs": [
    {
     "data": {
      "text/plain": [
       "{'Ursus spelaeus': Seq('ATGACCAACATCCGAAAAACCCATCCATTAGCTAAAATCATCAACAACTCATTT...AGA', SingleLetterAlphabet()),\n",
       " 'Ursus arctos': Seq('ATGACCAACATCCGAAAAACCCACCCATTAGCTAAAATCATCAACAACTCACTT...AGA', SingleLetterAlphabet()),\n",
       " 'Ursus thibetanus': Seq('ATGACCAACATCCGAAAAACCCATCCATTAGCCAAAATCATCAACAACTCACTC...AGA', SingleLetterAlphabet()),\n",
       " 'Melursus ursinus': Seq('ATGACCAACATCCGAAAAACCCACCCATTAGCTAAAATCATTAACAACTCACTC...AGA', SingleLetterAlphabet()),\n",
       " 'Ursus americanus': Seq('ATGACCAACATCCGAAAAACCCACCCATTAGCTAAAATCATCAACAACTCACTT...AGA', SingleLetterAlphabet()),\n",
       " 'Helarctos malayanus': Seq('ATGACCAACATCCGAAAAACCCACCCATTAGCTAAAATCATTAACAACTCACTT...AGA', SingleLetterAlphabet()),\n",
       " 'Ailuropoda melanoleuca': Seq('ATGATCAACATCCGAAAAACTCATCCATTAGTTAAAATTATCAACAACTCATTC...AGA', SingleLetterAlphabet()),\n",
       " 'Tremarctos ornatus': Seq('ATGACCAACATCCGAAAAACTCACCCACTAGCTAAAATCATCAACAGCTCATTC...AGA', SingleLetterAlphabet()),\n",
       " 'Ursus maritimus': Seq('ATGACCAACATCCGAAAAACCCACCCATTAGCTAAAATCATCAACAACTCATTT...AGA', SingleLetterAlphabet())}"
      ]
     },
     "execution_count": 4,
     "metadata": {},
     "output_type": "execute_result"
    }
   ],
   "source": [
    "# test function on bears_cytb.fasta file #\n",
    "get_sequences_from_file(\"bears_cytb.fasta\")"
   ]
  },
  {
   "cell_type": "code",
   "execution_count": 5,
   "metadata": {},
   "outputs": [
    {
     "name": "stdout",
     "output_type": "stream",
     "text": [
      "Ursus spelaeus ATGACCAACATCCGAAAAACCCATCCATTAGCTAAAATCATCAACAACTCATTTATTGACCTCCCAACACCATCAAACATCTCAGCATGATGAAACTTTGGATCCCTCCTCGGAGTATGCTTAATTCTACAGATCCTAACAGGCCTGTTTCTAGCTATACACTACACATCAGACACAACCACAGCCTTTTCATCAATCACCCATATTTGCCGAGACGTTCACTACGGTTGAGTTATCCGATATATACATGCAAACGGAGCCTCCATATTCTTTATCTGTCTATTCATGCACGTAGGACGGGGCCTATACTATGGCTCATACCTATTCTCAGAAACATGAAACATTGGCATTATTCTCCTACTTACAGTCATAGCCACCGCATTCATAGGATATGTCCTACCCTGAGGCCAAATGTCCTTCTGAGGAGCAACTGTCATTACCAACCTACTATCGGCCATTCCCTATATCGGAACGGACCTAGTAGAATGAATCTGAGGAGGCTTTTCCGTAGATAAGGCAACTCTAACACGATTCTTTGCCTTCCACTTTATCCTCCCGTTCATCATCTTAGCACTAGCAGCAGTCCATCTATTGTTTCTACACGAAACAGGATCCAACAACCCCTCTGGAATCCCATCTGACTCAGACAAAATCCCATTTCACCCATACTATACAATTAAGGACATTCTAGGCGCCCTGCTTCTCACTCTAGCTTTAGCAGCTCTAGTCCTATTCTCGCCTGACTTACTAGGAGACCCTGACAACTATACCCCCGCAAACCCACTGAGTACCCCACCCCACATCAAACCCGAGTGGTACTTTCTATTTGCCTACGCTATCCTACGATTTATCCCTAACAAACTAGGAGGAGTACTAGCACTAATCTTCTCCATTCTAATCCTAGCTATCATTTCTCTTCTACACACATCCAAACAACGAGGAATGATATTCCGGCCTCTAAGCCAATGCCTATTCTGACTCCTAGTAGCAGACCTACTAACACTAACATGAATTGGAGGACAACCAGTAGAACACCCCTTCATTATTATCGGACAGCTAGCCTCCATTCTCTACTTTACAATCCCCCTAGTACTCATACCCATCGCTGGAATTATTGAAAACAACCTCTTAAAGTGAAGA\n",
      "Ursus arctos ATGACCAACATCCGAAAAACCCACCCATTAGCTAAAATCATCAACAACTCACTTATTGACCTTCCAACACCATCAAACATCTCAGCATGATGAAACTTTGGATCCCTCCTTGGAGTATGTTTAATTCTACAGATTCTAACAGGCCTGTTCCTAGCCATACACTATACACCAGACACAACCACAGCTTTTTCATCGGTCACCCACATTTGCCGAGACGTCCACTACGGATGAGTTATCCGATATGTACATGCAAATGGAGCCTCCATCTTCTTTATCTGCCTATTTATGCACGTAGGACGGGGCCTGTACTATGGCTCATACCTATTCTCAGAAACATGAAACATTGGCATTATTCTCCTATTTACAATTATAGCCACCGCATTTATAGGATACGTCCTACCCTGGGGCCAAATGTCCTTCTGAGGAGCGACTGTCATCACCAATCTACTATCGGCCATTCCCTACATCGGAACGGACCTGGTAGAATGAATCTGAGGGGGCTTTTCCGTAGATAAAGCGACCCTAACACGATTCTTTGCTTTCCACTTTATTCTCCCGTTCATCATCCTAGCACTAGCAGCAGTCCATCTATTGTTCCTACACGAAACAGGATCTAACAACCCCTCTGGAATCCCATCTGACTCAGACAAAATCCCCTTCCATCCATACTATACAATTAAAGATATTCTAGGCGCCCTACTTCTCGCCCTAACCTTAGCAACCCTAGTCCTATTCTCGCCCGACTTACTAGGAGACCCTGATAACTATACCCCCGCAAATCCACTGAGCACTCCACCCCACATCAAACCCGAATGGTACTTTCTATTTGCCTACGCTATCCTACGATCTATCCCTAATAAACTAGGAGGAGTACTAGCACTAATTTTCTCCATTCTAATCCTAGCCATCATTCCTCTTCTACACACGTCCAAACAACGAGGAATGATATTCCGACCCCTAAGCCAATGCCTATTTTGACTTCTAGTAGCAGACCTACTAACACTAACATGAATTGGAGGACAACCAGTAGAACATCCCTTCATTATTATCGGACAACTAGCCTCCATTCTCTACTTTACAATCCTCCTAGTACTTATACCTATCGCTGGAATTATTGAAAATAACCTCTTAAAGTGGAGA\n",
      "Ursus thibetanus ATGACCAACATCCGAAAAACCCATCCATTAGCCAAAATCATCAACAACTCACTCATTGATCTCCCAGCACCATCAAATATCTCAGCATGATGAAACTTTGGATCCCTCCTCGGAATATGCCTAATCCTACAGATTCTGACAGGCCTATTTCTAGCTATACACTACACATCAGACGCGACTACAGCCTTTTCATCAGTCGCCCATATTTGCCGAGACGTCCATTACGGATGAATTATCCGATACATACATGCAAACGGAGCCTCCATGTTCTTCATCTGCCTATTCATACACGTAGGACGGGGCTTGTATTATGGCTCATACCTACTCTCAGAAACATGAAACATTGGCATCATCCTCCTATTTACAGTTATAGCCACCGCATTCATAGGATATGTCCTACCCTGAGGCCAAATATCTTTCTGAGGAGCGACTGTCATTACCAACCTCCTATCAGCCATTCCCTATATTGGAACGGACCTAGTAGAGTGAATCTGAGGGGGCTTTTCCGTAGATAAAGCAACCCTAACACGATTCTTTGCTTTCCACTTTATCCTTCCATTTATCATCCTAGCACTAGCAGCAGTTCATCTATTGTTCCTACACGAAACAGGATCCAACAACCCCTCTGGAATCCCATCCGACTCGGACAAAATCCCATTCCACCCATACTATACAATTAAGGACGCCCTAGGCGCCCTACTTCTCATTCTAGCCCTAGCAACTCTAGTTCTATTCTCGCCCGACTTACTGGGAGACCCTGACAACTATACCCCCGCAAACCCACTGAGCACCCCGCCCCACATCAAGCCTGAGTGATACTTTTTATTTGCTTACGCCATCTTACGATCCATCCCCAACAAACTAGGAGGAGTACTAGCGCTAATCTTCTCTATCCTAATCCTAGCCATTATCCCCCTTCTACACACATCCAAACAACGAGGAATAATGTTCCGACCCCTAAGCCAATGCCTATTTTGACTCCTAGTAGCAGACCTACTAACACTAACATGAATCGGAGGACAACCAGTAGAACATCCCTTCATCATTATCGGACAGCTAGCCTCCATCCTCTACTTCACAATCCTCCTGGTGCTCATGCCCATCGCTGGAATCATTGAAAACAACCTCTCAAAATGAAGA\n",
      "Melursus ursinus ATGACCAACATCCGAAAAACCCACCCATTAGCTAAAATCATTAACAACTCACTCATTGACCTCCCAGCACCGTCAAACATCTCAGCATGATGAAACTTCGGATCCCTCCTCGGAGTGTGCTTAATTCTACAAATTCTAACAGGCCTATTTCTAGCCATGCACTATACATCAGACACAACCACAGCCTTTTCATCAGTCACCCATATCTGTCGAGACGTCCACTACGGATGAATCATCCGATATATACATGCAAACGGGGCCTCCATATTCTTTATCTGCCTATTCATGCACGTAGGACGGGGTCTGTACTATGGCTCATACCTATTCTCGGAGACATGAAACACCGGCATTATTCTCCTATTTACAGTCATAGCCACCGCATTCATAGGATACGTCCTACCCTGAGGCCAAATGTCCTTCTGAGGAGCAACTGTCATCACCAATCTGCTATCGGCCATTCCCTATATTGGAGCGGACCTAGTAGAATGAATCTGAGGGGGGTTTTCCGTAGACAAGGCGACTCTAACACGATTCTTTGCCTTCCACTTTATCTTTCCATTTATCATCCTAGCACTGGTAATAGTCCACCTATTGTTCCTACATGAAACAGGATCTAACAACCCCTCTGGAATCCCATCCAACTCAGACAAAATCCCATTTCACCCATATTATACAATTAAAGATATTATAGGCGCCTTACTTCTCATCCTAGCCCTGGCAACCCTAGTCCTATTCTCACCCGACTTACTAGGAGACCCCGACAACTACACCCCTGCAAACCCACTGAGCACCCCACCCCACATCAAACCCGAGTGGTACTTTCTATTTGCCTACGCTATCCTACGATCCATCCCCAATAAACTAGGAGGGGTACTAGCACTAATTTTCTCCATCCTAATCCTAGCTATCATTCCCCTTCTACACACATCCAAACAACGAGGAATGATATTCCGGCCCCTAAGCCAATGCCTATTTTGACTCCTAGTAGCAGACCTACTAACACTTACATGAATCGGAGGACAACCAGTAGAATATCCCTTCATCACTATTGGACAACTAGCCTCCATCCTCTACTTCATAATCCTCCTAGTACTCATGCCCATCGCCGGAATCATTGAAAATAATCTCTCAAAGTGAAGA\n",
      "Ursus americanus ATGACCAACATCCGAAAAACCCACCCATTAGCTAAAATCATCAACAACTCACTTATTGATCTCCCAACACCATCAAATATCTCAGCATGATGAAACTTCGGATCCCTCCTCGGAGTATGTTTAGTACTACAAATTCTAACGGGCCTATTTCTAGCCATACACTACACATCAGATACAACTACAGCCTTTTCATCAATCACCCATATTTGCCGAGATGTTCACTACGGATGAATTATCCGATACATACATGCTAACGGAGCTTCCATGTTCTTTATCTGTCTGTTCATGCACGTAGGACGGGGTCTGTACTATGGCTCATACCTACTCTCAGAAACATGAAACATTGGCATTATCCTCCTATTTACAGTTATAGCCACCGCATTCATAGGATATGTCCTGCCCTGAGGCCAAATATCCTTCTGAGGAGCAACTGTTATCACCAACCTCCTATCAGCCATCCCCTATATTGGAACAGACCTAGTAGAATGGATCTGAGGGGGCTTTTCTGTGAATAAGGCAACTCTGACACGATTCTTTGCCTTCCACTTTATTCTTCCATTCATCATCTTGACACTAGCAGCAGTCCACCTATTATTCCTACACGAAACAGGATCTAATAACCCCTCTGGAATCCCATCTGACTCAGACAAAATCCCATTTCATCCATATTATACAATTAAAGACGCCCTAGGCGCCCTACTTTTCATCCTAGCCCTAGCAACTCTAGTCCTATTCTCGCCTGACCTACTAGGAGATCCCGATAACTACACCCCCGCAAACCCACTGAGCACCCCACCCCACATCAAACCTGAATGATATTTTCTATTTGCCTACGCTATTCTACGGTCCATCCCCAACAAACTAGGAGGAGTGCTAGCACTAATTTTCTCTATCCTAATCCTAGCTATTATCCCCCTTCTACACACATCCAAGCAACGAGGAATAATGTTCCGACCCCTAAGCCAATGCCTATTCTGACTTCTAGTAGCAGACCTACTAACACTAACATGAATCGGAGGGCAACCAGTAGAACACCCCTTTATCATTATCGGCCAGTTGGCCTCTATCCTCTACTTCACAATCCTCCTAGTGCTCATGCCTATCGCTGGGATCATTGAAAATAACCTCTCAAAATGAAGA\n",
      "Helarctos malayanus ATGACCAACATCCGAAAAACCCACCCATTAGCTAAAATCATTAACAACTCACTTATTGACCTCCCAGCACCATCAAACATCTCGGCGTGATGAAACTTCGGATCCCTCCTCGGAGTATGCTTAATCCTACAGATTATGACAGGCCTATTTCTAGCCATACACTATACATCAGACACAACCACAGCCTTTTCATCAATCACTCATATCTGCCGAGACGTTCACTACGGATGAATTATCCGATATATACATGCAAACGGAGCCTCCATGTTCTTTATCTGCCTATTCATGCACGTAGGACGGGGTCTGTACTATGGCTCGTACCTATTCTCAGAAACATGAAACATCGGTATTATCCTCCTATTTACAGTTATAGCCACCGCATTTATAGGATACGTCCTACCCTGAGGCCAAATGTCCTTCTGAGGAGCAACTGTCATTACCAATCTCTTATCAGCCATCCCCTATATTGGAACGGACCTAGTAGAATGAGTCTGAGGAGGCTTTTCCGTAGACAAGGCGACTCTAACACGATTCTTTGCCTTCCACTTTATCCTTCCGTTCATCATCTTGGCACTAACAGCGGTCCACCTATTATTCCTACACGAAACAGGGTCCAACAATCCCTCTGGAATCCCATCTGACTCAGACAAAATCCCATTTCACCCGTACTATACAATTAAGGACATCCTAGGCGCCCTACTTCTTACCCTAGCCCTAACAACCCTAGTTCTATTCTCGCCCGACTTACTAGGAGACCCTGACAACTACATCCCCGCAAATCCATTGAGCACCCCACCCCACATCAAACCCGAATGGTACTTTCTATTTGCCTACGCTATCCTACGATCCATCCCTAATAAACTAGGAGGAGTACTAGCTCTAGTCTTCTCTATCCTAATCCTAGCCATTATCCCCCTCTTACACACATCCAAGCAACGAGGAATGATATTCCGACCTCTGAGCCAATGCCTATTTTGACTCCTAGTAGCAGACCTACTAACACTAACATGAATTGGAGGACAACCAGTAGAACATCCCTTTACCATTATCGGACAACTAGCCTCCATTCTCTATTTCATAATCTTCCTAGTATTCATACCCATCGCTGGAATTATTGAAAATAACCTCTCAAAATGAAGA\n",
      "Ailuropoda melanoleuca ATGATCAACATCCGAAAAACTCATCCATTAGTTAAAATTATCAACAACTCATTCATTGACCTTCCAACACCATCAAACATTTCAACATGATGGAACTTTGGGTCCCTGTTAGGAGTGTGTCTGATCTTGCAAATCTTAACAGGCTTATTTCTAGCCATACACTATACATCAGATACAGCTACAGCCTTTTCATCAGTCGCACACATTTGTCGAGACGTCAACTATGGGTGATTTATCCGATATATACATGCCAATGGGGCCTCTATATTTTTTATCTGCCTATTTATACACGTAGGGCGAGGCTTATACTATGGATCATACCTATTTCCAGAGACATGGAATATCGGAATTATTCTCCTACTTACAATTATAGCCACCGCATTTATAGGATACGTCCTACCCTGAGGCCAAATGTCCTTCTGAGGAGCGACTGTCATCACCAACCTACTATCGGCCATTCCCTACATCGGAACGAACCTAGTAGAATGAATCTGAGGGGGCTTTTCCGTAGATAAGGCGACCCTAACACGATTCTTTGCTTTCCACTTTATCCTTCCATTTATCATCTCAGCACTAGCAATAGTCCATCTATTATTCCTTCACGAAACAGGATCTAATAACCCCTCCGGAATTCCATCTGACCCAGACAAAATCCCATTTTACCCCTATCATACAATTAAAGACATCCTAGGCGTCCTATTTCTTGTCCTCGCCTTAATAACCCTGGCTTTATTCTCACCAGACCTGTTAGGAGACCCTGATAACTATACCCCTGCAAATCCACTAAGTACCCCGCCACATATTAAGCCTGAATGGTACTTTCTATTTGCCTACGCTATCCTGCGATCCATTCCTAATAAACTAGGAGGGGTGCTAGCTCTAATCTTCTCTATTCTAATTCTAACTATTATTCCACTATTACATACATCCAAACAACGAAGCATGATATTCCGACCTCTAAGTCAATGCTTATTCTGACTCCTAGTAGCAGACCTACTCACACTAACATGAATTGGAGGACAGCCAGTAGAACACCCCTTCATTATTATTGGGCAATTGGCCTCTATTCTCTACTTTACAATTCTTCTAGTACTTATACCTATCACTAGCATTATTGAGAATAGCCTCTCAAAATGAAGA\n",
      "Tremarctos ornatus ATGACCAACATCCGAAAAACTCACCCACTAGCTAAAATCATCAACAGCTCATTCATTGACCTCCCAACACCATCAAATATCTCAGCGTGATGAAACTTCGGGTCCCTTCTTGGGGTGTGCCTGATCCTACACATCCTAACGGGCCTATTCCTGGCCATACACTATACAGCAGACACGACTACAGCCTTCTCATCAGTCGCCCATATCTGTCGAGACGTTAACTACGGATGAGTTATCCGATACATACACGCGAACGGAGCTTCAATATTCTTTATCTGCTTGTTCATACACGTGGGACGGGGTCTGTATTACGGCTCATACCTATTCTCAGAAACATGAAACATTGGAATTATTCTCCTACTCACAATTATAGCCACAGCATTCATGGGGTACGTGCTGCCCTGAGGCCAAATATCCTTTTGAGGAGCAACCGTCATCACCAATCTGCTATCAGCTATCCCCTACATTGGAACCGACCTAGTAGAATGAATCTGAGGTGGATTCTCAGTAGATAAAGCAACCCTTACCCGATTTTTCGCTTTTCACTTTATCCTTCCATTCATTATTTTAGCACTAGCCATAGTCCACCTATTATTTCTTCACGAAACAGGATCCAACAATCCCTCTGGAATCTCATCGAACTCAGACAAAATCCCATTTCACCCTTACTATACAATTAAAGATATTCTAGGCGTCTTACTTCTTCTCCTAGCCCTGGTAACCCTAGTCCTATTCTCACCCGACTTACTAGGAGACCCCGACAACTACACCCCTGCAAACCCAGTGAGCACCCCACTACATATCAAGCCTGAATGGTACTTCTTATTTGCCTACGCCATTCTACGATCTATTCCCAATAAATTGGGAGGAGTACTGGCCCTAATCTTCTCCATTCTAATCCTAGCTATCATTCCTCTGCTGCACACATCCAAACAACGAGGAATGATATTCCGACCTTTAAGCCAATGCCTTTTCTGGCTTCTAGCAGCAGACTTACTAACACTAACATGAATCGGAGGACAACCAGTGGAACATCCTCTTGTTATCATCGGACAGCTAGCCTCTATCCTCTACTTCACAATCCTCCTAGTACTTATACCCATCGCCGGAATCATTGAAAATAACCTCTCAAAGTGAAGA\n",
      "Ursus maritimus ATGACCAACATCCGAAAAACCCACCCATTAGCTAAAATCATCAACAACTCATTTATTGATCTTCCAACACCATCAAACATCTCAGCATGATGAAACTTTGGATCCCTCCTTGGAGTGTGTTTAATTCTACAGATTCTAACAGGCCTGTTTCTAGCCATACACTATACATCAGACACAACCACAGCTTTTTCATCAGTCACCCACATTTGCCGAGACGTTCACTACGGGTGAGTTATCCGATATGTACATGCAAATGGAGCCTCCATGTTCTTTATCTGCCTATTCATGCACGTAGGACGGGGCCTGTACTATGGCTCATACCTATTCTCAGAAACATGAAACATTGGCATTATTCTCCTATTTACAGTTATAGCCACCGCATTTATAGGATACGTCCTACCCTGAGGCCAAATGTCCTTCTGAGGAGCGACTGTCATCACCAATCTACTATCGGCCATTCCCTATATCGGAACGGACCTGGTAGAATGAATCTGAGGGGGCTTTTCCGTAGATAAGGCGACTCTAACACGATTCTTTGCTTTCCACTTTATTCTCCCGTTCATCATCCTAGCACTAGCAGCAGTCCACCTATTGTTCCTACACGAAACAGGATCCAACAACCCCTCTGGAATCCCATCTGACTCAGACAAAATCCCATTCCATCCATACTATACAATTAAGGATATTCTAGGCGCCCTACTTCTCACCCTAGCCCTAGCAACCCTAGTCCTATTCTCGCCCGACTTACTAGGAGACCCTGATAACTATATCCCCGCAAATCCACTAAGCACCCCACCCCACATCAAACCCGAGTGGTACTTTCTATTTGCCTACGCTATCCTACGATCCATCCCTAATAAACTAGGAGGAGTACTAGCACTAATTTTCTCCATTCTAATCCTAGCCCTCATTCCTCTTCTACACACGTCCAAACAACGAGGAATGATATTCCGGCCCCTAAGCCAATGCCTATTTTGACTTCTAGTAGCAGACCTACTAACACTAACATGAATTGGAGGACAACCAGTAGAACACCCCTTCATTATTATCGGACAACTAGCCTCCATTCTCTACTTTACAATCCTCCTAGTACTCATACCCATCGCTGGAATTATTGAAAACAACCTCTTAAAGTGGAGA\n"
     ]
    }
   ],
   "source": [
    "# following dictionary format from class just to make sure it checks out #\n",
    "d = get_sequences_from_file(\"bears_cytb.fasta\")\n",
    "for key, value in d.items():\n",
    "    print(key, value)"
   ]
  },
  {
   "cell_type": "markdown",
   "metadata": {},
   "source": [
    "Yay! It worked 🥂"
   ]
  },
  {
   "cell_type": "markdown",
   "metadata": {},
   "source": [
    "***"
   ]
  },
  {
   "cell_type": "markdown",
   "metadata": {},
   "source": [
    "### Function 2: manual translation function\n",
    "\n",
    "Directions: *Write a function that translates a string of nucleotides to amino acids based on Dr. X's pseudo-code suggestion.*\n",
    "\n",
    "(All sequences start at codon position 1; Complete a function that translates using a loop over the string of nucleotides)"
   ]
  },
  {
   "cell_type": "code",
   "execution_count": 6,
   "metadata": {},
   "outputs": [],
   "source": [
    "## Here is  some pseudo-code and suggestions\n",
    "\n",
    "# def translate_function(string_nucleotides): \n",
    "#     mito_table = CodonTable.unambiguous_dna_by_name[\"Vertebrate Mitochondrial\"] # this should work using BioPython (be sure to check what this returns)\n",
    "#     for-loop through every 3rd position in string_nucleotides to get the codon using range subsets\n",
    "#         # IMPORTANT: if the sequence has a stop codon at the end, you should leave it off\n",
    "#         # this is how you can retrieve the amino acid: mito_table.forward_table[codon]\n",
    "#         add the aa to aa_seq_string\n",
    "#     return(aa_seq_string)"
   ]
  },
  {
   "cell_type": "code",
   "execution_count": 7,
   "metadata": {},
   "outputs": [],
   "source": [
    "# Here is my completed function:\n",
    "\n",
    "def translate_function(string_nucleotides):\n",
    "    mito_table = CodonTable.unambiguous_dna_by_name[\"Vertebrate Mitochondrial\"] \n",
    "    aa_seq_string = []\n",
    "    for i in range(0,len(string_nucleotides), 3):\n",
    "        codon = string_nucleotides[i:i+3]\n",
    "        if codon != 'TAA' and codon != 'TAG' and codon != 'AGA' and codon!= 'AGG':\n",
    "            aa = mito_table.forward_table[codon]\n",
    "            aa_seq_string.append(aa)\n",
    "    return \"\".join(aa_seq_string)"
   ]
  },
  {
   "cell_type": "code",
   "execution_count": 8,
   "metadata": {},
   "outputs": [
    {
     "name": "stderr",
     "output_type": "stream",
     "text": [
      "C:\\Users\\britt\\Anaconda3\\lib\\site-packages\\Bio\\Seq.py:163: BiopythonWarning: Biopython Seq objects now use string comparison. Older versions of Biopython used object comparison. During this transition, please use hash(id(my_seq)) or my_dict[id(my_seq)] if you want the old behaviour, or use hash(str(my_seq)) or my_dict[str(my_seq)] for the new string hashing behaviour.\n",
      "  \"the new string hashing behaviour.\", BiopythonWarning)\n"
     ]
    },
    {
     "data": {
      "text/plain": [
       "'MTNIRKTHPLAKIINNSFIDLPTPSNISAWWNFGSLLGVCLILQILTGLFLAMHYTSDTTTAFSSVTHICRDVHYGWVIRYVHANGASMFFICLFMHVGRGLYYGSYLFSETWNIGIILLFTVMATAFMGYVLPWGQMSFWGATVITNLLSAIPYIGTDLVEWIWGGFSVDKATLTRFFAFHFILPFIILALAAVHLLFLHETGSNNPSGIPSDSDKIPFHPYYTIKDILGALLLTLALATLVLFSPDLLGDPDNYIPANPLSTPPHIKPEWYFLFAYAILRSIPNKLGGVLALIFSILILALIPLLHTSKQRGMMFRPLSQCLFWLLVADLLTLTWIGGQPVEHPFIIIGQLASILYFTILLVLMPIAGIIENNLLKW'"
      ]
     },
     "execution_count": 8,
     "metadata": {},
     "output_type": "execute_result"
    }
   ],
   "source": [
    "# testing to see if it works:\n",
    "translate_function(record.seq) # this is from the bears file\n"
   ]
  },
  {
   "cell_type": "markdown",
   "metadata": {},
   "source": [
    "Explanation of the tranlate function below:\n",
    "\n",
    "* l1, we are using `def` to define a function called `translate_function`and inside we will put a string of nucleotides (our data)\n",
    "* l2, we are creating an object called mito_table, which is taken from CondonTable in Biopython and it is specifically the vertebrate mitochondrial table, or table 2 (shown separately below). "
   ]
  },
  {
   "cell_type": "code",
   "execution_count": 9,
   "metadata": {},
   "outputs": [
    {
     "name": "stdout",
     "output_type": "stream",
     "text": [
      "Table 2 Vertebrate Mitochondrial, SGC1\n",
      "\n",
      "  |  T      |  C      |  A      |  G      |\n",
      "--+---------+---------+---------+---------+--\n",
      "T | TTT F   | TCT S   | TAT Y   | TGT C   | T\n",
      "T | TTC F   | TCC S   | TAC Y   | TGC C   | C\n",
      "T | TTA L   | TCA S   | TAA Stop| TGA W   | A\n",
      "T | TTG L   | TCG S   | TAG Stop| TGG W   | G\n",
      "--+---------+---------+---------+---------+--\n",
      "C | CTT L   | CCT P   | CAT H   | CGT R   | T\n",
      "C | CTC L   | CCC P   | CAC H   | CGC R   | C\n",
      "C | CTA L   | CCA P   | CAA Q   | CGA R   | A\n",
      "C | CTG L   | CCG P   | CAG Q   | CGG R   | G\n",
      "--+---------+---------+---------+---------+--\n",
      "A | ATT I(s)| ACT T   | AAT N   | AGT S   | T\n",
      "A | ATC I(s)| ACC T   | AAC N   | AGC S   | C\n",
      "A | ATA M(s)| ACA T   | AAA K   | AGA Stop| A\n",
      "A | ATG M(s)| ACG T   | AAG K   | AGG Stop| G\n",
      "--+---------+---------+---------+---------+--\n",
      "G | GTT V   | GCT A   | GAT D   | GGT G   | T\n",
      "G | GTC V   | GCC A   | GAC D   | GGC G   | C\n",
      "G | GTA V   | GCA A   | GAA E   | GGA G   | A\n",
      "G | GTG V(s)| GCG A   | GAG E   | GGG G   | G\n",
      "--+---------+---------+---------+---------+--\n",
      "<class 'Bio.Data.CodonTable.NCBICodonTableDNA'>\n",
      "['__class__', '__delattr__', '__dict__', '__dir__', '__doc__', '__eq__', '__format__', '__ge__', '__getattribute__', '__gt__', '__hash__', '__init__', '__init_subclass__', '__le__', '__lt__', '__module__', '__ne__', '__new__', '__reduce__', '__reduce_ex__', '__repr__', '__setattr__', '__sizeof__', '__str__', '__subclasshook__', '__weakref__', 'back_table', 'forward_table', 'id', 'names', 'nucleotide_alphabet', 'protein_alphabet', 'start_codons', 'stop_codons']\n"
     ]
    }
   ],
   "source": [
    "mito_table = CodonTable.unambiguous_dna_by_name[\"Vertebrate Mitochondrial\"] \n",
    "print(mito_table)\n",
    "# describing the table\n",
    "print(type(mito_table))\n",
    "print(dir(mito_table))"
   ]
  },
  {
   "cell_type": "markdown",
   "metadata": {},
   "source": [
    "* l3 creates an empty list that the amino acids will go in (I make this back into a string at the end)\n",
    "* l4 is the beginning of the for loop-\n",
    ">     for i in range(0,len(string_nucleotides), 3):\n",
    "        codon = string_nucleotides[i:i+3]\n",
    "    This part uses the function `range`, and I'm having it start at 0, stop at the length of our data, and I set the steps at three to get every third nucleotide. Below that, I am creating an object called codon that is indexing the string of nucleotides from an arbitrary i, to two spaces after that `i+3`, so we have all three to translate into an aa. \n",
    "* after that, I have to take out the stop codons, because python was yelling out me and they wouldn't translate \n",
    ">if codon != 'TAA' and codon != 'TAG' and codon != 'AGA' and codon!= 'AGG':\n",
    "            aa = mito_table.forward_table[codon]\n",
    "            aa_seq_string.append(aa)\n",
    "I used an if statement (sry, probably cringeworthy syntax 🤷‍♀️) and I used `!=` as and 'is not' statement and went through all four stop codons - so if the codon coming from the earlier code was none of those, it was then put into the `mito_table.forward_table` where it was translated into an amino acid. There was probably a nicer way to do this that I did not spend time figuring out.\n",
    "* After that, I used `.append` to add on each newly translated amino acid to my `aa_seq_string` list (.append is only for lists and cannot be used for strings\n",
    "* To make the returned output back into a string, I used `\"\".join()`, which is a solution I found on multiple help sites online like https://www.geeksforgeeks.org/join-function-python/"
   ]
  },
  {
   "cell_type": "markdown",
   "metadata": {},
   "source": [
    "***"
   ]
  },
  {
   "cell_type": "markdown",
   "metadata": {},
   "source": [
    "### Function 3: BioPython translation function\n",
    "\n",
    "Directions: *Write an alternative translation function.*"
   ]
  },
  {
   "cell_type": "markdown",
   "metadata": {},
   "source": [
    "As an alternative, we can just use the `.translate()` that comes included in BioPython"
   ]
  },
  {
   "cell_type": "code",
   "execution_count": 10,
   "metadata": {},
   "outputs": [
    {
     "name": "stdout",
     "output_type": "stream",
     "text": [
      "MTNIRKTHPLAKIINNSFIDLPTPSNISAWWNFGSLLGVCLILQILTGLFLAMHYTSDTTTAFSSVTHICRDVHYGWVIRYVHANGASMFFICLFMHVGRGLYYGSYLFSETWNIGIILLFTVMATAFMGYVLPWGQMSFWGATVITNLLSAIPYIGTDLVEWIWGGFSVDKATLTRFFAFHFILPFIILALAAVHLLFLHETGSNNPSGIPSDSDKIPFHPYYTIKDILGALLLTLALATLVLFSPDLLGDPDNYIPANPLSTPPHIKPEWYFLFAYAILRSIPNKLGGVLALIFSILILALIPLLHTSKQRGMMFRPLSQCLFWLLVADLLTLTWIGGQPVEHPFIIIGQLASILYFTILLVLMPIAGIIENNLLKW\n"
     ]
    }
   ],
   "source": [
    "print(record.seq.translate(table = 2, to_stop = True)) # the to_stop leaves out the stop codons annotated by '*'\n",
    "# table two is the same as the vertebrate mitochondrial table we are calling earlier"
   ]
  },
  {
   "cell_type": "markdown",
   "metadata": {},
   "source": [
    "***"
   ]
  },
  {
   "cell_type": "markdown",
   "metadata": {},
   "source": [
    "### Function 4: Molecular weight function\n",
    "\n",
    "Directions: *Write a function that calculates the molecular weight of each amino acid sequence [http://biopython.org/wiki/ProtParam].*"
   ]
  },
  {
   "cell_type": "code",
   "execution_count": 11,
   "metadata": {},
   "outputs": [],
   "source": [
    "## So you should import the following before defining your function:\n",
    "# from Bio.SeqUtils.ProtParam import ProteinAnalysis\n",
    "# def compute_molecular_weight(aa_seq):\n",
    "#     # I think the ProtParam functions may require aa_seq to be a string.\n",
    "#     # It may not work if the amino acid sequence has stop codons.\n",
    "#     run the ProteinAnalysis() function on aa_seq\n",
    "#\t  return the molecular weight"
   ]
  },
  {
   "cell_type": "code",
   "execution_count": 12,
   "metadata": {},
   "outputs": [
    {
     "name": "stdout",
     "output_type": "stream",
     "text": [
      "<class 'str'>\n"
     ]
    },
    {
     "name": "stderr",
     "output_type": "stream",
     "text": [
      "C:\\Users\\britt\\Anaconda3\\lib\\site-packages\\Bio\\Seq.py:163: BiopythonWarning: Biopython Seq objects now use string comparison. Older versions of Biopython used object comparison. During this transition, please use hash(id(my_seq)) or my_dict[id(my_seq)] if you want the old behaviour, or use hash(str(my_seq)) or my_dict[str(my_seq)] for the new string hashing behaviour.\n",
      "  \"the new string hashing behaviour.\", BiopythonWarning)\n"
     ]
    },
    {
     "data": {
      "text/plain": [
       "42454.78729999998"
      ]
     },
     "execution_count": 12,
     "metadata": {},
     "output_type": "execute_result"
    }
   ],
   "source": [
    "test = translate_function(record.seq) # this is from our manual translate function because the output is a str\n",
    "print(type(test))\n",
    "\n",
    "# this gives you the weight of all the amino acids... but our function needs to calculate the weight of each amino acid\n",
    "from Bio.SeqUtils.ProtParam import ProteinAnalysis\n",
    "analysed_seq = ProteinAnalysis(test) # this test was generated using the first by-hand function bc it needs to be a string\n",
    "analysed_seq.molecular_weight()"
   ]
  },
  {
   "cell_type": "code",
   "execution_count": 13,
   "metadata": {
    "scrolled": false
   },
   "outputs": [
    {
     "data": {
      "text/plain": [
       "[149.2113,\n",
       " 119.1192,\n",
       " 132.1179,\n",
       " 131.1729,\n",
       " 174.201,\n",
       " 146.1876,\n",
       " 119.1192,\n",
       " 155.1546,\n",
       " 115.1305,\n",
       " 131.1729,\n",
       " 89.0932,\n",
       " 146.1876,\n",
       " 131.1729,\n",
       " 131.1729,\n",
       " 132.1179,\n",
       " 132.1179,\n",
       " 105.0926,\n",
       " 165.1891,\n",
       " 131.1729,\n",
       " 133.1027,\n",
       " 131.1729,\n",
       " 115.1305,\n",
       " 119.1192,\n",
       " 115.1305,\n",
       " 105.0926,\n",
       " 132.1179,\n",
       " 131.1729,\n",
       " 105.0926,\n",
       " 89.0932,\n",
       " 204.2252,\n",
       " 204.2252,\n",
       " 132.1179,\n",
       " 165.1891,\n",
       " 75.0666,\n",
       " 105.0926,\n",
       " 131.1729,\n",
       " 131.1729,\n",
       " 75.0666,\n",
       " 117.1463,\n",
       " 121.1582,\n",
       " 131.1729,\n",
       " 131.1729,\n",
       " 131.1729,\n",
       " 146.1445,\n",
       " 131.1729,\n",
       " 131.1729,\n",
       " 119.1192,\n",
       " 75.0666,\n",
       " 131.1729,\n",
       " 165.1891,\n",
       " 131.1729,\n",
       " 89.0932,\n",
       " 149.2113,\n",
       " 155.1546,\n",
       " 181.1885,\n",
       " 119.1192,\n",
       " 105.0926,\n",
       " 133.1027,\n",
       " 119.1192,\n",
       " 119.1192,\n",
       " 119.1192,\n",
       " 89.0932,\n",
       " 165.1891,\n",
       " 105.0926,\n",
       " 105.0926,\n",
       " 117.1463,\n",
       " 119.1192,\n",
       " 155.1546,\n",
       " 131.1729,\n",
       " 121.1582,\n",
       " 174.201,\n",
       " 133.1027,\n",
       " 117.1463,\n",
       " 155.1546,\n",
       " 181.1885,\n",
       " 75.0666,\n",
       " 204.2252,\n",
       " 117.1463,\n",
       " 131.1729,\n",
       " 174.201,\n",
       " 181.1885,\n",
       " 117.1463,\n",
       " 155.1546,\n",
       " 89.0932,\n",
       " 132.1179,\n",
       " 75.0666,\n",
       " 89.0932,\n",
       " 105.0926,\n",
       " 149.2113,\n",
       " 165.1891,\n",
       " 165.1891,\n",
       " 131.1729,\n",
       " 121.1582,\n",
       " 131.1729,\n",
       " 165.1891,\n",
       " 149.2113,\n",
       " 155.1546,\n",
       " 117.1463,\n",
       " 75.0666,\n",
       " 174.201,\n",
       " 75.0666,\n",
       " 131.1729,\n",
       " 181.1885,\n",
       " 181.1885,\n",
       " 75.0666,\n",
       " 105.0926,\n",
       " 181.1885,\n",
       " 131.1729,\n",
       " 165.1891,\n",
       " 105.0926,\n",
       " 147.1293,\n",
       " 119.1192,\n",
       " 204.2252,\n",
       " 132.1179,\n",
       " 131.1729,\n",
       " 75.0666,\n",
       " 131.1729,\n",
       " 131.1729,\n",
       " 131.1729,\n",
       " 131.1729,\n",
       " 165.1891,\n",
       " 119.1192,\n",
       " 117.1463,\n",
       " 149.2113,\n",
       " 89.0932,\n",
       " 119.1192,\n",
       " 89.0932,\n",
       " 165.1891,\n",
       " 149.2113,\n",
       " 75.0666,\n",
       " 181.1885,\n",
       " 117.1463,\n",
       " 131.1729,\n",
       " 115.1305,\n",
       " 204.2252,\n",
       " 75.0666,\n",
       " 146.1445,\n",
       " 149.2113,\n",
       " 105.0926,\n",
       " 165.1891,\n",
       " 204.2252,\n",
       " 75.0666,\n",
       " 89.0932,\n",
       " 119.1192,\n",
       " 117.1463,\n",
       " 131.1729,\n",
       " 119.1192,\n",
       " 132.1179,\n",
       " 131.1729,\n",
       " 131.1729,\n",
       " 105.0926,\n",
       " 89.0932,\n",
       " 131.1729,\n",
       " 115.1305,\n",
       " 181.1885,\n",
       " 131.1729,\n",
       " 75.0666,\n",
       " 119.1192,\n",
       " 133.1027,\n",
       " 131.1729,\n",
       " 117.1463,\n",
       " 147.1293,\n",
       " 204.2252,\n",
       " 131.1729,\n",
       " 204.2252,\n",
       " 75.0666,\n",
       " 75.0666,\n",
       " 165.1891,\n",
       " 105.0926,\n",
       " 117.1463,\n",
       " 133.1027,\n",
       " 146.1876,\n",
       " 89.0932,\n",
       " 119.1192,\n",
       " 131.1729,\n",
       " 119.1192,\n",
       " 174.201,\n",
       " 165.1891,\n",
       " 165.1891,\n",
       " 89.0932,\n",
       " 165.1891,\n",
       " 155.1546,\n",
       " 165.1891,\n",
       " 131.1729,\n",
       " 131.1729,\n",
       " 115.1305,\n",
       " 165.1891,\n",
       " 131.1729,\n",
       " 131.1729,\n",
       " 131.1729,\n",
       " 89.0932,\n",
       " 131.1729,\n",
       " 89.0932,\n",
       " 89.0932,\n",
       " 117.1463,\n",
       " 155.1546,\n",
       " 131.1729,\n",
       " 131.1729,\n",
       " 165.1891,\n",
       " 131.1729,\n",
       " 155.1546,\n",
       " 147.1293,\n",
       " 119.1192,\n",
       " 75.0666,\n",
       " 105.0926,\n",
       " 132.1179,\n",
       " 132.1179,\n",
       " 115.1305,\n",
       " 105.0926,\n",
       " 75.0666,\n",
       " 131.1729,\n",
       " 115.1305,\n",
       " 105.0926,\n",
       " 133.1027,\n",
       " 105.0926,\n",
       " 133.1027,\n",
       " 146.1876,\n",
       " 131.1729,\n",
       " 115.1305,\n",
       " 165.1891,\n",
       " 155.1546,\n",
       " 115.1305,\n",
       " 181.1885,\n",
       " 181.1885,\n",
       " 119.1192,\n",
       " 131.1729,\n",
       " 146.1876,\n",
       " 133.1027,\n",
       " 131.1729,\n",
       " 131.1729,\n",
       " 75.0666,\n",
       " 89.0932,\n",
       " 131.1729,\n",
       " 131.1729,\n",
       " 131.1729,\n",
       " 119.1192,\n",
       " 131.1729,\n",
       " 89.0932,\n",
       " 131.1729,\n",
       " 89.0932,\n",
       " 119.1192,\n",
       " 131.1729,\n",
       " 117.1463,\n",
       " 131.1729,\n",
       " 165.1891,\n",
       " 105.0926,\n",
       " 115.1305,\n",
       " 133.1027,\n",
       " 131.1729,\n",
       " 131.1729,\n",
       " 75.0666,\n",
       " 133.1027,\n",
       " 115.1305,\n",
       " 133.1027,\n",
       " 132.1179,\n",
       " 181.1885,\n",
       " 131.1729,\n",
       " 115.1305,\n",
       " 89.0932,\n",
       " 132.1179,\n",
       " 115.1305,\n",
       " 131.1729,\n",
       " 105.0926,\n",
       " 119.1192,\n",
       " 115.1305,\n",
       " 115.1305,\n",
       " 155.1546,\n",
       " 131.1729,\n",
       " 146.1876,\n",
       " 115.1305,\n",
       " 147.1293,\n",
       " 204.2252,\n",
       " 181.1885,\n",
       " 165.1891,\n",
       " 131.1729,\n",
       " 165.1891,\n",
       " 89.0932,\n",
       " 181.1885,\n",
       " 89.0932,\n",
       " 131.1729,\n",
       " 131.1729,\n",
       " 174.201,\n",
       " 105.0926,\n",
       " 131.1729,\n",
       " 115.1305,\n",
       " 132.1179,\n",
       " 146.1876,\n",
       " 131.1729,\n",
       " 75.0666,\n",
       " 75.0666,\n",
       " 117.1463,\n",
       " 131.1729,\n",
       " 89.0932,\n",
       " 131.1729,\n",
       " 131.1729,\n",
       " 165.1891,\n",
       " 105.0926,\n",
       " 131.1729,\n",
       " 131.1729,\n",
       " 131.1729,\n",
       " 131.1729,\n",
       " 89.0932,\n",
       " 131.1729,\n",
       " 131.1729,\n",
       " 115.1305,\n",
       " 131.1729,\n",
       " 131.1729,\n",
       " 155.1546,\n",
       " 119.1192,\n",
       " 105.0926,\n",
       " 146.1876,\n",
       " 146.1445,\n",
       " 174.201,\n",
       " 75.0666,\n",
       " 149.2113,\n",
       " 149.2113,\n",
       " 165.1891,\n",
       " 174.201,\n",
       " 115.1305,\n",
       " 131.1729,\n",
       " 105.0926,\n",
       " 146.1445,\n",
       " 121.1582,\n",
       " 131.1729,\n",
       " 165.1891,\n",
       " 204.2252,\n",
       " 131.1729,\n",
       " 131.1729,\n",
       " 117.1463,\n",
       " 89.0932,\n",
       " 133.1027,\n",
       " 131.1729,\n",
       " 131.1729,\n",
       " 119.1192,\n",
       " 131.1729,\n",
       " 119.1192,\n",
       " 204.2252,\n",
       " 131.1729,\n",
       " 75.0666,\n",
       " 75.0666,\n",
       " 146.1445,\n",
       " 115.1305,\n",
       " 117.1463,\n",
       " 147.1293,\n",
       " 155.1546,\n",
       " 115.1305,\n",
       " 165.1891,\n",
       " 131.1729,\n",
       " 131.1729,\n",
       " 131.1729,\n",
       " 75.0666,\n",
       " 146.1445,\n",
       " 131.1729,\n",
       " 89.0932,\n",
       " 105.0926,\n",
       " 131.1729,\n",
       " 131.1729,\n",
       " 181.1885,\n",
       " 165.1891,\n",
       " 119.1192,\n",
       " 131.1729,\n",
       " 131.1729,\n",
       " 131.1729,\n",
       " 117.1463,\n",
       " 131.1729,\n",
       " 149.2113,\n",
       " 115.1305,\n",
       " 131.1729,\n",
       " 89.0932,\n",
       " 75.0666,\n",
       " 131.1729,\n",
       " 131.1729,\n",
       " 147.1293,\n",
       " 132.1179,\n",
       " 132.1179,\n",
       " 131.1729,\n",
       " 131.1729,\n",
       " 146.1876,\n",
       " 204.2252]"
      ]
     },
     "execution_count": 13,
     "metadata": {},
     "output_type": "execute_result"
    }
   ],
   "source": [
    "# completed molecular weight function:\n",
    "from Bio.SeqUtils.ProtParam import ProteinAnalysis\n",
    "def compute_molecular_weight(aa_seq):\n",
    "    all_mlclr_wt = []\n",
    "    for i in aa_seq:\n",
    "        analysed_seq = ProteinAnalysis(i)\n",
    "        mlclr_wt = analysed_seq.molecular_weight()\n",
    "        all_mlclr_wt.append(mlclr_wt)\n",
    "    return all_mlclr_wt\n",
    "\n",
    "compute_molecular_weight(test) # just to make sure it worked (sorry output is in a list)"
   ]
  },
  {
   "cell_type": "markdown",
   "metadata": {},
   "source": [
    "* In the beginning we are using `def`, like before, do define a function called `compute_molecular weight` that will be applied to our data (here called aa_seq)\n",
    "* `all_mlclr_wt = []` is creating an empty list for final weights to go in\n",
    "* the next part of code is our for loop:\n",
    "> for i in aa_seq:\n",
    "        analysed_seq = ProteinAnalysis(i) \n",
    "        mlclr_wt = analysed_seq.molecular_weight() \n",
    "        all_mlclr_wt.append(mlclr_wt)\n",
    ">This iterates through each amino acid and 1) performs the `ProteinAnalysis` function, and the output is stored in `analysed_seq`. 2) it then uses the tool `.molecular_weight()` to get the weight of each amino acid from `analysed_seq`. 3) We are then filling the liste we created earlier called `all_mlclr_weight` with each molecular weight above by using the `.append` tool. Finally, we are returning the list of all molecular weights at the end.\n"
   ]
  },
  {
   "cell_type": "markdown",
   "metadata": {},
   "source": [
    "***"
   ]
  },
  {
   "cell_type": "markdown",
   "metadata": {},
   "source": [
    "### For Function 5: GC-content function\n",
    "\n",
    "Directions: *Write a function that computes the GC-content of each DNA sequence.*"
   ]
  },
  {
   "cell_type": "code",
   "execution_count": 14,
   "metadata": {},
   "outputs": [
    {
     "data": {
      "text/plain": [
       "0.44298245614035087"
      ]
     },
     "execution_count": 14,
     "metadata": {},
     "output_type": "execute_result"
    }
   ],
   "source": [
    "# GC content function:\n",
    "\n",
    "def gc_content(dna_seq):\n",
    "    gc_count = 0\n",
    "    for base in dna_seq:\n",
    "        if base is 'G' or base is 'C':\n",
    "            gc_count +=1        \n",
    "    return gc_count/len(dna_seq)\n",
    "        \n",
    "gc_content(record.seq)      "
   ]
  },
  {
   "cell_type": "markdown",
   "metadata": {},
   "source": [
    "* Like in the previous functions, we are using `def` to define a function. This time the function is called `gc_content` and we are using it on our dna_seq data. \n",
    "* we start by initiating an counter starting at zero that will keep track of all g's and c's\n",
    "* next we loop through each base in our sequence and if the base is a G or C, the counter will go up by one. \n",
    "* the function ends by returning the total gc count divided by the total length of the dna sequence, or total nucleotides, which is equal to the proportion of GC in the sequence"
   ]
  },
  {
   "cell_type": "markdown",
   "metadata": {},
   "source": [
    "## *Main*"
   ]
  },
  {
   "cell_type": "code",
   "execution_count": 15,
   "metadata": {},
   "outputs": [],
   "source": [
    "cytb_seqs = get_sequences_from_file(\"bears_cytb.fasta\") # this is a dictionary\n",
    "\n",
    "bears_df = pd.read_csv(\"bears_mass.csv\") # Includes only data for body mass \n",
    "\n",
    "species_list = list(bears_df.species) "
   ]
  },
  {
   "cell_type": "markdown",
   "metadata": {},
   "source": [
    "#### 6. Add two new columns to the bears DataFrame, and set the value to 'NaN' to indicate that these cells are currently empty: \n",
    " 1. molecular weight \n",
    " 2. content"
   ]
  },
  {
   "cell_type": "code",
   "execution_count": 16,
   "metadata": {},
   "outputs": [
    {
     "name": "stdout",
     "output_type": "stream",
     "text": [
      "                  species     mass\n",
      "0          Ursus spelaeus  550.800\n",
      "1            Ursus arctos  203.500\n",
      "2        Ursus thibetanus   99.714\n",
      "3        Melursus ursinus  100.030\n",
      "4        Ursus americanus  110.560\n",
      "5     Helarctos malayanus   47.020\n",
      "6  Ailuropoda melanoleuca  118.200\n",
      "7      Tremarctos ornatus  140.700\n",
      "8         Ursus maritimus  425.100\n",
      "                  species     mass molecular_weight content\n",
      "0          Ursus spelaeus  550.800              NaN     NaN\n",
      "1            Ursus arctos  203.500              NaN     NaN\n",
      "2        Ursus thibetanus   99.714              NaN     NaN\n",
      "3        Melursus ursinus  100.030              NaN     NaN\n",
      "4        Ursus americanus  110.560              NaN     NaN\n",
      "5     Helarctos malayanus   47.020              NaN     NaN\n",
      "6  Ailuropoda melanoleuca  118.200              NaN     NaN\n",
      "7      Tremarctos ornatus  140.700              NaN     NaN\n",
      "8         Ursus maritimus  425.100              NaN     NaN\n"
     ]
    }
   ],
   "source": [
    "print(bears_df) # before\n",
    "bears_df['molecular_weight'] = 'NaN'\n",
    "bears_df['content'] = 'NaN'\n",
    "print(bears_df) # after -- just to make sure it works"
   ]
  },
  {
   "cell_type": "markdown",
   "metadata": {},
   "source": [
    "#### 7. Call your functions from step 3 (or step 2) and step 4 and fill in the new columns in the DataFrame.\n",
    "* Write a for-loop that translates each sequence and also gets molecular weight and computes the GC content of each translated sequence and adds those data to DataFrame"
   ]
  },
  {
   "cell_type": "code",
   "execution_count": 17,
   "metadata": {},
   "outputs": [
    {
     "name": "stderr",
     "output_type": "stream",
     "text": [
      "C:\\Users\\britt\\Anaconda3\\lib\\site-packages\\Bio\\Seq.py:163: BiopythonWarning: Biopython Seq objects now use string comparison. Older versions of Biopython used object comparison. During this transition, please use hash(id(my_seq)) or my_dict[id(my_seq)] if you want the old behaviour, or use hash(str(my_seq)) or my_dict[str(my_seq)] for the new string hashing behaviour.\n",
      "  \"the new string hashing behaviour.\", BiopythonWarning)\n"
     ]
    },
    {
     "name": "stdout",
     "output_type": "stream",
     "text": [
      "                  species     mass molecular_weight   content\n",
      "0          Ursus spelaeus  550.800          49268.6  0.437719\n",
      "1            Ursus arctos  203.500          49224.5  0.437719\n",
      "2        Ursus thibetanus   99.714          49116.5   0.45614\n",
      "3        Melursus ursinus  100.030          49361.8  0.451754\n",
      "4        Ursus americanus  110.560          49237.5  0.439474\n",
      "5     Helarctos malayanus   47.020          49370.7  0.442982\n",
      "6  Ailuropoda melanoleuca  118.200            49512  0.407895\n",
      "7      Tremarctos ornatus  140.700          49194.6   0.44386\n",
      "8         Ursus maritimus  425.100          49264.6  0.442982\n"
     ]
    }
   ],
   "source": [
    "for index, row in bears_df.iterrows():\n",
    "   # print(index, row['content'])\n",
    "    seq = cytb_seqs[bears_df.loc[index, 'species']]\n",
    "    aa_seq = translate_function(seq) #2 \n",
    "    cmw = sum(compute_molecular_weight(aa_seq))\n",
    "    gcc = gc_content(seq)\n",
    "  # print(index,cmw, gcc)\n",
    "    bears_df.loc[index,'content'] = gcc\n",
    "    bears_df.loc[index,'molecular_weight'] = cmw\n",
    "print(bears_df)"
   ]
  },
  {
   "cell_type": "markdown",
   "metadata": {},
   "source": [
    "* There was probably a better way to do this but I started with a loop that went through the each index and row of bears_df using iterrows\n",
    "* I used `.loc`, so by giving it the index and species in bears, the output will give you the sequence of each row \n",
    "* Once I had the seqence this way, I translated it using the first translate function, because the output of this was was a string\n",
    "* Then I calculated the molecular weight with my compute_molecular weight function-- only that spat out of list of each amino acid weight for a species so I summed to get the total. \n",
    "* The last calculation was the gc content - so I used the gc_content function made earlier on the sequence\n",
    "* after having both weight and gc content, I put them into the dataframe using .loc[index, 'new column name'] = column output created in loop\n",
    "* and then at the end I printed the data frame to see if it worked\n"
   ]
  },
  {
   "cell_type": "markdown",
   "metadata": {},
   "source": [
    "#### 8. Plot a bar-chart of the mass with the x-axes labeled with species names.\n",
    "1. What is the largest bear species?\n",
    "2. What else is interesting about this species?"
   ]
  },
  {
   "cell_type": "code",
   "execution_count": 18,
   "metadata": {},
   "outputs": [],
   "source": [
    "# importing plotting libraries\n",
    "import pandas as pd\n",
    "import matplotlib.pyplot as plt\n",
    "import seaborn as sns"
   ]
  },
  {
   "cell_type": "code",
   "execution_count": 19,
   "metadata": {},
   "outputs": [],
   "source": [
    "%matplotlib inline"
   ]
  },
  {
   "cell_type": "code",
   "execution_count": 20,
   "metadata": {},
   "outputs": [
    {
     "data": {
      "text/html": [
       "<div>\n",
       "<style scoped>\n",
       "    .dataframe tbody tr th:only-of-type {\n",
       "        vertical-align: middle;\n",
       "    }\n",
       "\n",
       "    .dataframe tbody tr th {\n",
       "        vertical-align: top;\n",
       "    }\n",
       "\n",
       "    .dataframe thead th {\n",
       "        text-align: right;\n",
       "    }\n",
       "</style>\n",
       "<table border=\"1\" class=\"dataframe\">\n",
       "  <thead>\n",
       "    <tr style=\"text-align: right;\">\n",
       "      <th></th>\n",
       "      <th>species</th>\n",
       "      <th>mass</th>\n",
       "      <th>molecular_weight</th>\n",
       "      <th>content</th>\n",
       "    </tr>\n",
       "  </thead>\n",
       "  <tbody>\n",
       "    <tr>\n",
       "      <th>0</th>\n",
       "      <td>Ursus spelaeus</td>\n",
       "      <td>550.800</td>\n",
       "      <td>49268.6</td>\n",
       "      <td>0.437719</td>\n",
       "    </tr>\n",
       "    <tr>\n",
       "      <th>1</th>\n",
       "      <td>Ursus arctos</td>\n",
       "      <td>203.500</td>\n",
       "      <td>49224.5</td>\n",
       "      <td>0.437719</td>\n",
       "    </tr>\n",
       "    <tr>\n",
       "      <th>2</th>\n",
       "      <td>Ursus thibetanus</td>\n",
       "      <td>99.714</td>\n",
       "      <td>49116.5</td>\n",
       "      <td>0.45614</td>\n",
       "    </tr>\n",
       "    <tr>\n",
       "      <th>3</th>\n",
       "      <td>Melursus ursinus</td>\n",
       "      <td>100.030</td>\n",
       "      <td>49361.8</td>\n",
       "      <td>0.451754</td>\n",
       "    </tr>\n",
       "    <tr>\n",
       "      <th>4</th>\n",
       "      <td>Ursus americanus</td>\n",
       "      <td>110.560</td>\n",
       "      <td>49237.5</td>\n",
       "      <td>0.439474</td>\n",
       "    </tr>\n",
       "    <tr>\n",
       "      <th>5</th>\n",
       "      <td>Helarctos malayanus</td>\n",
       "      <td>47.020</td>\n",
       "      <td>49370.7</td>\n",
       "      <td>0.442982</td>\n",
       "    </tr>\n",
       "    <tr>\n",
       "      <th>6</th>\n",
       "      <td>Ailuropoda melanoleuca</td>\n",
       "      <td>118.200</td>\n",
       "      <td>49512</td>\n",
       "      <td>0.407895</td>\n",
       "    </tr>\n",
       "    <tr>\n",
       "      <th>7</th>\n",
       "      <td>Tremarctos ornatus</td>\n",
       "      <td>140.700</td>\n",
       "      <td>49194.6</td>\n",
       "      <td>0.44386</td>\n",
       "    </tr>\n",
       "    <tr>\n",
       "      <th>8</th>\n",
       "      <td>Ursus maritimus</td>\n",
       "      <td>425.100</td>\n",
       "      <td>49264.6</td>\n",
       "      <td>0.442982</td>\n",
       "    </tr>\n",
       "  </tbody>\n",
       "</table>\n",
       "</div>"
      ],
      "text/plain": [
       "                  species     mass molecular_weight   content\n",
       "0          Ursus spelaeus  550.800          49268.6  0.437719\n",
       "1            Ursus arctos  203.500          49224.5  0.437719\n",
       "2        Ursus thibetanus   99.714          49116.5   0.45614\n",
       "3        Melursus ursinus  100.030          49361.8  0.451754\n",
       "4        Ursus americanus  110.560          49237.5  0.439474\n",
       "5     Helarctos malayanus   47.020          49370.7  0.442982\n",
       "6  Ailuropoda melanoleuca  118.200            49512  0.407895\n",
       "7      Tremarctos ornatus  140.700          49194.6   0.44386\n",
       "8         Ursus maritimus  425.100          49264.6  0.442982"
      ]
     },
     "execution_count": 20,
     "metadata": {},
     "output_type": "execute_result"
    }
   ],
   "source": [
    "#^has to be in a separate chunk\n",
    "\n",
    "bears_df # just to remember what it looks like..."
   ]
  },
  {
   "cell_type": "code",
   "execution_count": 21,
   "metadata": {
    "scrolled": true
   },
   "outputs": [
    {
     "data": {
      "text/plain": [
       "[Text(0,0,'Ursus spelaeus'),\n",
       " Text(0,0,'Ursus arctos'),\n",
       " Text(0,0,'Ursus thibetanus'),\n",
       " Text(0,0,'Melursus ursinus'),\n",
       " Text(0,0,'Ursus americanus'),\n",
       " Text(0,0,'Helarctos malayanus'),\n",
       " Text(0,0,'Ailuropoda melanoleuca'),\n",
       " Text(0,0,'Tremarctos ornatus'),\n",
       " Text(0,0,'Ursus maritimus')]"
      ]
     },
     "execution_count": 21,
     "metadata": {},
     "output_type": "execute_result"
    },
    {
     "data": {
      "image/png": "[encoded data removed]",
      "text/plain": [
       "<Figure size 864x360 with 1 Axes>"
      ]
     },
     "metadata": {},
     "output_type": "display_data"
    }
   ],
   "source": [
    "plot_dims = (12, 5) # i messed around with this until it looked ok and not too crowded\n",
    "fig, ax = plt.subplots(figsize = plot_dims)\n",
    "sns.barplot(\"species\", \"mass\", data=bears_df, color = 'purple') # using .barplot in seaborn\n",
    "ax.set_xticklabels(bears_df['species'], rotation=-65) # adjusting the angle of axis labels for readability"
   ]
  },
  {
   "cell_type": "code",
   "execution_count": 22,
   "metadata": {},
   "outputs": [
    {
     "data": {
      "text/plain": [
       "<BarContainer object of 9 artists>"
      ]
     },
     "execution_count": 22,
     "metadata": {},
     "output_type": "execute_result"
    },
    {
     "data": {
      "image/png": "[encoded data removed]",
      "text/plain": [
       "<Figure size 432x288 with 1 Axes>"
      ]
     },
     "metadata": {},
     "output_type": "display_data"
    }
   ],
   "source": [
    "plt.barh(\"species\", \"mass\", data = bears_df) #horizontal version, another way to plot using .barh (h for horizontal)"
   ]
  },
  {
   "cell_type": "markdown",
   "metadata": {},
   "source": [
    "The largest bear species is *Ursus spelaeus*, or a cave bear which is 💀 **extinct** 💀 . It over 2x bigger than all other bears except the polar bear.   "
   ]
  },
  {
   "cell_type": "markdown",
   "metadata": {},
   "source": [
    "#### 9. Plot a visualization of the molecular weight (y-axis) as a function of GC-content (x-axis)."
   ]
  },
  {
   "cell_type": "code",
   "execution_count": 23,
   "metadata": {},
   "outputs": [
    {
     "data": {
      "text/plain": [
       "<seaborn.axisgrid.FacetGrid at 0x1dfb9e66978>"
      ]
     },
     "execution_count": 23,
     "metadata": {},
     "output_type": "execute_result"
    },
    {
     "data": {
      "image/png": "[encoded data removed]",
      "text/plain": [
       "<Figure size 540x360 with 1 Axes>"
      ]
     },
     "metadata": {},
     "output_type": "display_data"
    }
   ],
   "source": [
    "sns.lmplot(\"content\", \"molecular_weight\", data=bears_df, fit_reg=False, aspect = 1.5)\n",
    "\n",
    "# Here I'm using .lmplot in the seaborn library plotting content on the x and molecular weight on the y. \n",
    "# aspect is 1.5 to make it a bit bigger and we are setting fir_reg to false so there isn't a line drawn through it."
   ]
  },
  {
   "cell_type": "markdown",
   "metadata": {},
   "source": [
    "#### 10. Save (write) the new DataFrame that includes your new columns to a file called \"bears_mass_cytb.csv\""
   ]
  },
  {
   "cell_type": "code",
   "execution_count": 24,
   "metadata": {},
   "outputs": [],
   "source": [
    "bears_df.to_csv(\"bears_mass_cytb.csv\", sep = '\\t')"
   ]
  },
  {
   "cell_type": "markdown",
   "metadata": {},
   "source": [
    "^here I'm writing it using `.to_csv` which is part of pandas and it will save to my current directory with the name \"bears_mass_cytb.csv\" and we are using tabs as delimiters."
   ]
  },
  {
   "cell_type": "markdown",
   "metadata": {},
   "source": [
    "#### 11 - BONUS: What else can we do with this dataset in Python? 🐻\n",
    "* Add functions or anything that might be interesting and fun. (optional)\n",
    " (0.5 additional points if your total score is < 15)."
   ]
  },
  {
   "cell_type": "code",
   "execution_count": 25,
   "metadata": {},
   "outputs": [
    {
     "data": {
      "text/html": [
       "<div>\n",
       "<style scoped>\n",
       "    .dataframe tbody tr th:only-of-type {\n",
       "        vertical-align: middle;\n",
       "    }\n",
       "\n",
       "    .dataframe tbody tr th {\n",
       "        vertical-align: top;\n",
       "    }\n",
       "\n",
       "    .dataframe thead th {\n",
       "        text-align: right;\n",
       "    }\n",
       "</style>\n",
       "<table border=\"1\" class=\"dataframe\">\n",
       "  <thead>\n",
       "    <tr style=\"text-align: right;\">\n",
       "      <th></th>\n",
       "      <th>species</th>\n",
       "      <th>mass</th>\n",
       "      <th>molecular_weight</th>\n",
       "      <th>content</th>\n",
       "    </tr>\n",
       "  </thead>\n",
       "  <tbody>\n",
       "    <tr>\n",
       "      <th>0</th>\n",
       "      <td>Ursus spelaeus</td>\n",
       "      <td>550.800</td>\n",
       "      <td>49268.6</td>\n",
       "      <td>0.437719</td>\n",
       "    </tr>\n",
       "    <tr>\n",
       "      <th>1</th>\n",
       "      <td>Ursus arctos</td>\n",
       "      <td>203.500</td>\n",
       "      <td>49224.5</td>\n",
       "      <td>0.437719</td>\n",
       "    </tr>\n",
       "    <tr>\n",
       "      <th>2</th>\n",
       "      <td>Ursus thibetanus</td>\n",
       "      <td>99.714</td>\n",
       "      <td>49116.5</td>\n",
       "      <td>0.45614</td>\n",
       "    </tr>\n",
       "    <tr>\n",
       "      <th>3</th>\n",
       "      <td>Melursus ursinus</td>\n",
       "      <td>100.030</td>\n",
       "      <td>49361.8</td>\n",
       "      <td>0.451754</td>\n",
       "    </tr>\n",
       "    <tr>\n",
       "      <th>4</th>\n",
       "      <td>Ursus americanus</td>\n",
       "      <td>110.560</td>\n",
       "      <td>49237.5</td>\n",
       "      <td>0.439474</td>\n",
       "    </tr>\n",
       "    <tr>\n",
       "      <th>5</th>\n",
       "      <td>Helarctos malayanus</td>\n",
       "      <td>47.020</td>\n",
       "      <td>49370.7</td>\n",
       "      <td>0.442982</td>\n",
       "    </tr>\n",
       "    <tr>\n",
       "      <th>6</th>\n",
       "      <td>Ailuropoda melanoleuca</td>\n",
       "      <td>118.200</td>\n",
       "      <td>49512</td>\n",
       "      <td>0.407895</td>\n",
       "    </tr>\n",
       "    <tr>\n",
       "      <th>7</th>\n",
       "      <td>Tremarctos ornatus</td>\n",
       "      <td>140.700</td>\n",
       "      <td>49194.6</td>\n",
       "      <td>0.44386</td>\n",
       "    </tr>\n",
       "    <tr>\n",
       "      <th>8</th>\n",
       "      <td>Ursus maritimus</td>\n",
       "      <td>425.100</td>\n",
       "      <td>49264.6</td>\n",
       "      <td>0.442982</td>\n",
       "    </tr>\n",
       "  </tbody>\n",
       "</table>\n",
       "</div>"
      ],
      "text/plain": [
       "                  species     mass molecular_weight   content\n",
       "0          Ursus spelaeus  550.800          49268.6  0.437719\n",
       "1            Ursus arctos  203.500          49224.5  0.437719\n",
       "2        Ursus thibetanus   99.714          49116.5   0.45614\n",
       "3        Melursus ursinus  100.030          49361.8  0.451754\n",
       "4        Ursus americanus  110.560          49237.5  0.439474\n",
       "5     Helarctos malayanus   47.020          49370.7  0.442982\n",
       "6  Ailuropoda melanoleuca  118.200            49512  0.407895\n",
       "7      Tremarctos ornatus  140.700          49194.6   0.44386\n",
       "8         Ursus maritimus  425.100          49264.6  0.442982"
      ]
     },
     "execution_count": 25,
     "metadata": {},
     "output_type": "execute_result"
    }
   ],
   "source": [
    "bears_df "
   ]
  },
  {
   "cell_type": "markdown",
   "metadata": {},
   "source": [
    "Let's make a pie 🥧 📈 (for 💩 and 😆)\n",
    "\n",
    "objectively one of the worst ways to visualize data"
   ]
  },
  {
   "cell_type": "code",
   "execution_count": 26,
   "metadata": {},
   "outputs": [
    {
     "data": {
      "image/png": "[encoded data removed]",
      "text/plain": [
       "<Figure size 432x288 with 1 Axes>"
      ]
     },
     "metadata": {},
     "output_type": "display_data"
    }
   ],
   "source": [
    "labels = bears_df['species']\n",
    "sizes = bears_df['mass']\n",
    "colors = ['#00796B', '#B2DFDB', '#FFFFFF', '#CDDC39', '#212121', '#BDBDBD', '#D7B49E', '#B8D5B8', '#689F38'] \n",
    "plt.pie(sizes, labels = labels, colors=colors, shadow=False, startangle=90)\n",
    "#plt.legend(patches, labels, loc=\"upper left\")\n",
    "plt.axis('equal')\n",
    "plt.tight_layout()\n",
    "plt.show()"
   ]
  },
  {
   "cell_type": "markdown",
   "metadata": {},
   "source": [
    "# SO PRETTY 🤣🤢"
   ]
  },
  {
   "cell_type": "markdown",
   "metadata": {},
   "source": [
    "Okay... let's try plotting something else"
   ]
  },
  {
   "cell_type": "code",
   "execution_count": 27,
   "metadata": {},
   "outputs": [
    {
     "data": {
      "text/plain": [
       "['Ursus spelaeus',\n",
       " 'Ursus arctos',\n",
       " 'Ursus thibetanus',\n",
       " 'Melursus ursinus',\n",
       " 'Ursus americanus',\n",
       " 'Helarctos malayanus',\n",
       " 'Ailuropoda melanoleuca',\n",
       " 'Tremarctos ornatus',\n",
       " 'Ursus maritimus']"
      ]
     },
     "execution_count": 27,
     "metadata": {},
     "output_type": "execute_result"
    }
   ],
   "source": [
    "list(bears_df['species'])"
   ]
  },
  {
   "cell_type": "code",
   "execution_count": 28,
   "metadata": {},
   "outputs": [
    {
     "data": {
      "text/plain": [
       "<matplotlib.collections.PathCollection at 0x1dfb9e88940>"
      ]
     },
     "execution_count": 28,
     "metadata": {},
     "output_type": "execute_result"
    },
    {
     "data": {
      "image/png": "[encoded data removed]",
      "text/plain": [
       "<Figure size 432x288 with 1 Axes>"
      ]
     },
     "metadata": {},
     "output_type": "display_data"
    }
   ],
   "source": [
    "import numpy as np\n",
    " \n",
    "x = bears_df['content']\n",
    "y = bears_df['molecular_weight']\n",
    "bears = list(bears_df['species'])\n",
    "# use the scatter function\n",
    "fig, ax = plt.subplots()\n",
    "ax.scatter(x, y, s=bears_df['mass']*2.5, alpha=0.5, marker = \"o\")\n",
    "\n",
    "# Here I am scaling the size of the data point by how big the bear is. Nothing too interesting here. \n",
    "# Tried my hardest to get .annotate to label the points with the species names but I couldn't figure it out."
   ]
  },
  {
   "cell_type": "code",
   "execution_count": 29,
   "metadata": {},
   "outputs": [
    {
     "data": {
      "image/png": "[encoded data removed]",
      "text/plain": [
       "<Figure size 432x288 with 1 Axes>"
      ]
     },
     "metadata": {},
     "output_type": "display_data"
    }
   ],
   "source": [
    "# OR...\n",
    "\n",
    "# BEARS\n",
    "x = bears_df['content']\n",
    "y = bears_df['molecular_weight']\n",
    " \n",
    "# use the scatter function\n",
    "plt.scatter(x, y, s=bears_df['mass']*15, alpha=0.5, marker = \"$BEAR$\", color = '#6F4740')\n",
    "plt.show()\n",
    "\n",
    "# pointless "
   ]
  }
 ],
 "metadata": {
  "kernelspec": {
   "display_name": "Python 3",
   "language": "python",
   "name": "python3"
  },
  "language_info": {
   "codemirror_mode": {
    "name": "ipython",
    "version": 3
   },
   "file_extension": ".py",
   "mimetype": "text/x-python",
   "name": "python",
   "nbconvert_exporter": "python",
   "pygments_lexer": "ipython3",
   "version": "3.6.5"
  }
 },
 "nbformat": 4,
 "nbformat_minor": 2
}
